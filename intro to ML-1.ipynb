{
 "cells": [
  {
   "cell_type": "markdown",
   "id": "e04b3974",
   "metadata": {},
   "source": [
    "Ques 1.\n",
    "Artificial Intelligence is the simulation of human intelligence processes by computer systems. AI can perform tasks that typically require human intelligence, such as understanding natural language, recognizing speech and images, and making decisions. \n",
    "ex- Self-driving cars: Google and Elon Musk have shown us that self-driving cars are possible. However, self-driving cars require more training data and testing due to the various activities that it needs to account for, such as giving right of way or identifying debris on the road.\n",
    "\n",
    "Machine learning (ML) is a type of artificial intelligence (AI) that allows software applications to become more accurate at predicting outcomes without being explicitly programmed to do so.\n",
    "ex- Face detection in images.\n",
    "\n",
    "Deep Learning: it is a type of machine learning based on artificial neural networks in which multiple layers of processing are used to extract progressively higher level features from data.\n",
    "\n",
    "\n",
    "\n",
    "####\n",
    "Que2.\n",
    " Supervised learning is a type of machine learning in which a model is trained on a labeled dataset. In supervised learning, the model learns to map input features to the correct output by using the labeled examples provided in the training set. The objective of the model is to predict the correct output for new, unseen input examples:\n",
    " Fraud detection \n",
    " spam email filtering \n",
    " house price prediction\n",
    " \n",
    " ####\n",
    " QUES3.\n",
    " Unsupervised learning is a type of machine learning in which a model is trained on an unlabeled dataset. In unsupervised learning, the model is not provided with any specific output or label to predict, but rather learns to identify patterns and relationships in the input data. The objective of unsupervised learning is often to discover the underlying structure or clusters in the data.\n",
    "\n",
    "####\n",
    "Ques4.\n",
    "Train set: This is the part of the dataset used to train the model. The model learns the patterns and relationships in the data through this set. Typically, the train set consists of 60-80% of the entire dataset. The train set is important because it is used to teach the model how to make accurate predictions on new, unseen data. The model learns the patterns and relationships in the data through this set.\n",
    "\n",
    "Test set: This is the part of the dataset used to evaluate the performance of the trained model on unseen data. The model is applied to the test set, and the resulting predictions are compared to the true values to evaluate the accuracy of the model. Typically, the test set consists of 20-40% of the entire dataset. The test set is important because it is used to evaluate the performance of the trained model on unseen data. This helps to ensure that the model can make accurate predictions on new data and is not overfitting the training data.\n",
    "\n",
    "A validation set is a set of data used to train artificial intelligence (AI) with the goal of finding and optimizing the best model to solve a given problem. Validation sets are also known as dev sets. A supervised AI is trained on a corpus of training data.\n",
    "\n",
    "\n",
    "####\n",
    "Que5.\n",
    "Anomaly detection techniques of unsupervised nature assume that normal data points occur considerably more frequently than anomalous data points. This assumption is used to classify data points that occur less frequently as anomalies. Unsupervised techniques assign each data point a score instead of a label.\n",
    "\n",
    "Ques6.\n",
    "Supervised Learning Algorithms:\n",
    "\n",
    "Linear Regression\n",
    "Logistic Regression\n",
    "Decision Trees\n",
    "Random Forest\n",
    "Support Vector Machines (SVM)\n",
    "K-Nearest Neighbors (KNN)\n",
    "Naive Bayes\n",
    "Artificial Neural Networks (ANN)\n",
    "\n",
    "\n",
    "Unsupervised ML Algo:\n",
    "K-Means Clustering\n",
    "Hierarchical Clustering\n",
    "Density-Based Spatial Clustering of Applications with Noise (DBSCAN)\n",
    "Principal Component Analysis (PCA)\n",
    "Independent Component Analysis (ICA)\n",
    "t-Distributed Stochastic Neighbor Embedding (t-SNE)\n",
    " "
   ]
  }
 ],
 "metadata": {
  "kernelspec": {
   "display_name": "Python 3 (ipykernel)",
   "language": "python",
   "name": "python3"
  },
  "language_info": {
   "codemirror_mode": {
    "name": "ipython",
    "version": 3
   },
   "file_extension": ".py",
   "mimetype": "text/x-python",
   "name": "python",
   "nbconvert_exporter": "python",
   "pygments_lexer": "ipython3",
   "version": "3.9.12"
  }
 },
 "nbformat": 4,
 "nbformat_minor": 5
}
