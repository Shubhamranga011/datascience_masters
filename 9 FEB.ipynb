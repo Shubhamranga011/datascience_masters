{
 "cells": [
  {
   "cell_type": "code",
   "execution_count": 32,
   "id": "17389d0f",
   "metadata": {},
   "outputs": [],
   "source": [
    "#Que1.\n",
    "class Vehicle():\n",
    "    def __init__(self, name_of_vehicle, max_speed, average_of_vehicle):\n",
    "        self.name_of_vehicle = name_of_vehicle\n",
    "        self.max_speed = max_speed\n",
    "        self.average_of_vehicle = average_of_vehicle\n",
    "        \n",
    "        "
   ]
  },
  {
   "cell_type": "code",
   "execution_count": 36,
   "id": "044b7fd3",
   "metadata": {},
   "outputs": [
    {
     "name": "stdout",
     "output_type": "stream",
     "text": [
      "Name of vehicle: abc\n",
      "Max speed: 180\n",
      "Average of vehicle: 20\n"
     ]
    }
   ],
   "source": [
    "my_vehicle = Vehicle('abc', 180, 20)\n",
    "print(\"Name of vehicle:\", my_vehicle.name_of_vehicle)\n",
    "print(\"Max speed:\", my_vehicle.max_speed)\n",
    "print(\"Average of vehicle:\", my_vehicle.average_of_vehicle)\n"
   ]
  },
  {
   "cell_type": "code",
   "execution_count": 37,
   "id": "84f13ff6",
   "metadata": {},
   "outputs": [],
   "source": [
    "#Que2.\n",
    "class Car(Vehicle):\n",
    "    def seating_capacity(self, capacity):\n",
    "        return f\"Name of vehicle: {self.name_of_vehicle}, Seating capacity: {capacity}\"\n"
   ]
  },
  {
   "cell_type": "code",
   "execution_count": 39,
   "id": "29179ed6",
   "metadata": {},
   "outputs": [
    {
     "name": "stdout",
     "output_type": "stream",
     "text": [
      "Name of vehicle: Sedan, Seating capacity: 4\n"
     ]
    }
   ],
   "source": [
    "sedan = Car(\"Sedan\", 250, 16)\n",
    "print(sedan.seating_capacity(4))\n"
   ]
  },
  {
   "cell_type": "code",
   "execution_count": null,
   "id": "f912f9b1",
   "metadata": {},
   "outputs": [],
   "source": []
  },
  {
   "cell_type": "code",
   "execution_count": 40,
   "id": "9e51ca8d",
   "metadata": {},
   "outputs": [],
   "source": [
    "#Que3.\n",
    "'''\n",
    "Multiple inheritance is a feature in object-oriented programming where a single class can inherit properties and \n",
    "behaviors from multiple parent classes. This allows a derived class to inherit attributes and methods from multiple base classes,\n",
    "making it possible to create complex class hierarchies that represent real-world relationships.\n",
    "\n",
    "'''\n",
    "\n",
    "class Engine:\n",
    "    def __init__(self, fuel_type, engine_power):\n",
    "        self.fuel_type = fuel_type\n",
    "        self.engine_power = engine_power\n",
    "        \n",
    "    def start_engine(self):\n",
    "        return f\"Starting {self.fuel_type} engine with power: {self.engine_power}.\"\n",
    "\n",
    "class Chassis:\n",
    "    def __init__(self, frame_type, num_of_wheels):\n",
    "        self.frame_type = frame_type\n",
    "        self.num_of_wheels = num_of_wheels\n",
    "        \n",
    "    def build_chassis(self):\n",
    "        return f\"Building {self.frame_type} chassis with {self.num_of_wheels} wheels.\"\n",
    "\n",
    "class Car(Engine, Chassis):\n",
    "    def __init__(self, name, fuel_type, engine_power, frame_type, num_of_wheels):\n",
    "        Engine.__init__(self, fuel_type, engine_power)\n",
    "        Chassis.__init__(self, frame_type, num_of_wheels)\n",
    "        self.name = name\n",
    "        \n",
    "    def build_car(self):\n",
    "        return f\"Building {self.name} car.\\n{self.start_engine()}\\n{self.build_chassis()}\"\n"
   ]
  },
  {
   "cell_type": "code",
   "execution_count": 41,
   "id": "68ea82ae",
   "metadata": {},
   "outputs": [
    {
     "name": "stdout",
     "output_type": "stream",
     "text": [
      "Building My Car car.\n",
      "Starting Gasoline engine with power: 150.\n",
      "Building Steel chassis with 4 wheels.\n"
     ]
    }
   ],
   "source": [
    "my_car = Car(\"My Car\", \"Gasoline\", 150, \"Steel\", 4)\n",
    "print(my_car.build_car())\n"
   ]
  },
  {
   "cell_type": "code",
   "execution_count": null,
   "id": "c86facbc",
   "metadata": {},
   "outputs": [],
   "source": [
    "#Que4.\n",
    "'''\n",
    "Getter and setter methods allow you to encapsulate the implementation details of an instance variable, while still\n",
    "providing a way to access and modify its value. This makes it easier to maintain the code,\n",
    "because you can change the implementation of the instance variable without affecting the code that uses it.\n",
    "'''"
   ]
  },
  {
   "cell_type": "code",
   "execution_count": 42,
   "id": "0b77cfe4",
   "metadata": {},
   "outputs": [],
   "source": [
    "#Que5.\n",
    "'''\n",
    "Method overriding is a feature of object-oriented programming languages where the subclass or child class can \n",
    "provide the program with specific characteristics or a specific implementation process of data provided that are\n",
    "already defined in the parent class or superclasses.\n",
    "'''\n",
    "\n",
    "class Animal:\n",
    "    def make_sound(self):\n",
    "        print(\"The animal makes a sound.\")\n",
    "        \n",
    "class Dog(Animal):\n",
    "    def make_sound(self):\n",
    "        print(\"The dog barks.\")\n",
    "        \n",
    "class Cat(Animal):\n",
    "    def make_sound(self):\n",
    "        print(\"The cat meows.\")\n"
   ]
  },
  {
   "cell_type": "code",
   "execution_count": 43,
   "id": "063fb903",
   "metadata": {},
   "outputs": [
    {
     "name": "stdout",
     "output_type": "stream",
     "text": [
      "The dog barks.\n",
      "The cat meows.\n"
     ]
    }
   ],
   "source": [
    "dog = Dog()\n",
    "dog.make_sound()\n",
    "cat = Cat()\n",
    "cat.make_sound()\n"
   ]
  },
  {
   "cell_type": "code",
   "execution_count": null,
   "id": "025f1294",
   "metadata": {},
   "outputs": [],
   "source": []
  }
 ],
 "metadata": {
  "kernelspec": {
   "display_name": "Python 3 (ipykernel)",
   "language": "python",
   "name": "python3"
  },
  "language_info": {
   "codemirror_mode": {
    "name": "ipython",
    "version": 3
   },
   "file_extension": ".py",
   "mimetype": "text/x-python",
   "name": "python",
   "nbconvert_exporter": "python",
   "pygments_lexer": "ipython3",
   "version": "3.9.12"
  }
 },
 "nbformat": 4,
 "nbformat_minor": 5
}
