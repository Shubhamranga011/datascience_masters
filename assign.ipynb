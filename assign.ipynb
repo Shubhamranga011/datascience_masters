{
 "cells": [
  {
   "cell_type": "code",
   "execution_count": null,
   "id": "6a5f4c13",
   "metadata": {},
   "outputs": [],
   "source": [
    "#Que1.\n",
    "'''\n",
    "in python open() is used to open the files\n",
    "'r'- read files\n",
    "'w'- write in files\n",
    "'a'- append mode\n",
    "\n",
    "\n",
    "file = open('example.txt', 'r')\n",
    "\n",
    "file = open('example.txt', 'w')\n",
    "'''"
   ]
  },
  {
   "cell_type": "code",
   "execution_count": null,
   "id": "c73eb53c",
   "metadata": {},
   "outputs": [],
   "source": [
    "#Que2.\n",
    "'''\n",
    "The close() function is used to close a file that was previously opened using the open() function in Python. \n",
    "It is important to close a file after you are done working with it to release the resources being used by the file\n",
    "and to ensure that all the data has been written to the file.\n",
    "'''\n"
   ]
  },
  {
   "cell_type": "code",
   "execution_count": 1,
   "id": "d19863c4",
   "metadata": {},
   "outputs": [
    {
     "name": "stdout",
     "output_type": "stream",
     "text": [
      "I want to become a Data Scientist\n"
     ]
    }
   ],
   "source": [
    "#Que3.\n",
    "with open('data_scientist.txt', 'w') as file:\n",
    "    file.write('I want to become a Data Scientist')\n",
    "with open('data_scientist.txt', 'r') as file:\n",
    "    content = file.read()\n",
    "print(content)\n"
   ]
  },
  {
   "cell_type": "code",
   "execution_count": 10,
   "id": "ec68615e",
   "metadata": {},
   "outputs": [
    {
     "name": "stdout",
     "output_type": "stream",
     "text": [
      "I want to become a Data Scientist\n"
     ]
    }
   ],
   "source": [
    "#Que4.\n",
    "\n",
    "# read() method reads the entire content from file\n",
    "with open('data_scientist.txt', 'w') as file:\n",
    "    file.write('I want to become a Data Scientist')\n",
    "with open('data_scientist.txt', 'r') as file:\n",
    "    content = file.read()\n",
    "print(content)\n",
    "\n",
    "# readline()-This method reads a single line from a file and returns it as a string. \n",
    "#Each subsequent call to readline() reads the next line of the file.\n"
   ]
  },
  {
   "cell_type": "code",
   "execution_count": null,
   "id": "f5b5ce2b",
   "metadata": {},
   "outputs": [],
   "source": [
    "#Que5.\n",
    "\n",
    "'''\n",
    "in Python, the with statement is used with the open() function to provide a context in which a file can be used.\n",
    "The advantage of using the with statement and open() together is that it automatically handles the closing of the \n",
    "file, even if an exception is raised.\n",
    "'''\n",
    "\n",
    "with open('example.txt', 'r') as file:\n",
    "    # Do something with the file\n"
   ]
  },
  {
   "cell_type": "code",
   "execution_count": null,
   "id": "8725830c",
   "metadata": {},
   "outputs": [],
   "source": [
    "#Que6.\n",
    "'''\n",
    "write() function: This function writes a string to a file.\n",
    "python\n",
    "'''\n",
    "# Open the file in write mode\n",
    "file = open('example.txt', 'w')\n",
    "\n",
    "# Write a string to the file\n",
    "file.write('I want to become a Data Scientist')\n",
    "\n",
    "# Close the file\n",
    "file.close()\n"
   ]
  },
  {
   "cell_type": "code",
   "execution_count": null,
   "id": "94a6e13d",
   "metadata": {},
   "outputs": [],
   "source": [
    "'''\n",
    "writelines() function: This function writes a list of strings to a file.\n",
    "'''\n",
    "\n",
    "# Open the file in write mode\n",
    "file = open('example.txt', 'w')\n",
    "\n",
    "# Write a list of strings to the file\n",
    "lines = ['I want to become', 'a Data Scientist']\n",
    "file.writelines(lines)\n",
    "\n",
    "# Close the file\n",
    "file.close()\n"
   ]
  }
 ],
 "metadata": {
  "kernelspec": {
   "display_name": "Python 3 (ipykernel)",
   "language": "python",
   "name": "python3"
  },
  "language_info": {
   "codemirror_mode": {
    "name": "ipython",
    "version": 3
   },
   "file_extension": ".py",
   "mimetype": "text/x-python",
   "name": "python",
   "nbconvert_exporter": "python",
   "pygments_lexer": "ipython3",
   "version": "3.9.12"
  }
 },
 "nbformat": 4,
 "nbformat_minor": 5
}
