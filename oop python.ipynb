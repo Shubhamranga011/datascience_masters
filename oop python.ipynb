{
 "cells": [
  {
   "cell_type": "code",
   "execution_count": null,
   "id": "95548655",
   "metadata": {},
   "outputs": [],
   "source": [
    "#Que1.\n",
    "#A Class is like an object constructor, or a \"blueprint\" for creating objects.\n",
    "# n Object is an instance of a class and encapsulates state and behavior.\n",
    "#The state is represented by attributes and the behavior is represented by methods."
   ]
  },
  {
   "cell_type": "code",
   "execution_count": null,
   "id": "575ebebe",
   "metadata": {},
   "outputs": [],
   "source": [
    "#Que2.\n",
    "#The four pillars are Inheritance, Polymorphism, Encapsulation and Abstraction."
   ]
  },
  {
   "cell_type": "code",
   "execution_count": 6,
   "id": "c0dca753",
   "metadata": {},
   "outputs": [
    {
     "name": "stdout",
     "output_type": "stream",
     "text": [
      "Shubham\n",
      "20\n"
     ]
    }
   ],
   "source": [
    "#Que3.\n",
    "#The __init__() function in Python is a special method that is automatically called when an object of a class \n",
    "# is created\n",
    "\n",
    "#example of __init__()\n",
    "class Person:\n",
    "    def __init__(self, name, age):\n",
    "        self.name = name\n",
    "        self.age = age\n",
    "\n",
    "person = Person(\"Shubham\", 20)\n",
    "print(person.name) # Output: Shubham\n",
    "print(person.age) # Output: 20\n"
   ]
  },
  {
   "cell_type": "code",
   "execution_count": null,
   "id": "3b11db5a",
   "metadata": {},
   "outputs": [],
   "source": [
    "#Que4.\n",
    "'''\n",
    "Inheritance is a feature in Object-Oriented Programming (OOP) that allows a class to inherit attributes \n",
    "and methods from a parent class.\n",
    "This enables reusability of code and a way to create a hierarchy of classes.\n",
    "'''\n",
    "\n",
    "#Single inheritance: A subclass inherits from a single parent class.\n",
    "#Multi-level inheritance: A subclass inherits from a parent class, which in turn inherits from a grandparent class.\n",
    "#Multiple inheritance: A subclass inherits from multiple parent classes."
   ]
  }
 ],
 "metadata": {
  "kernelspec": {
   "display_name": "Python 3 (ipykernel)",
   "language": "python",
   "name": "python3"
  },
  "language_info": {
   "codemirror_mode": {
    "name": "ipython",
    "version": 3
   },
   "file_extension": ".py",
   "mimetype": "text/x-python",
   "name": "python",
   "nbconvert_exporter": "python",
   "pygments_lexer": "ipython3",
   "version": "3.9.12"
  }
 },
 "nbformat": 4,
 "nbformat_minor": 5
}
