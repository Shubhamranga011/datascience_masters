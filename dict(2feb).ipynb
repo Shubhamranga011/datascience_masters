{
 "cells": [
  {
   "cell_type": "code",
   "execution_count": null,
   "id": "47670ff7",
   "metadata": {},
   "outputs": [],
   "source": [
    "Que1.\n",
    "Tuples are immutable\n",
    "They are indexed, ordered and can contain duplicate values."
   ]
  },
  {
   "cell_type": "code",
   "execution_count": null,
   "id": "a3a0d800",
   "metadata": {},
   "outputs": [],
   "source": [
    "Que2.\n",
    "count()  returns no. of times a specific value occurs\n",
    "index()  Searches the tuple for a specified value and returns the position of where it was found."
   ]
  },
  {
   "cell_type": "code",
   "execution_count": 1,
   "id": "692551a9",
   "metadata": {},
   "outputs": [
    {
     "name": "stdout",
     "output_type": "stream",
     "text": [
      "Original List:  [1, 1, 1, 2, 1, 3, 1, 4, 2, 1, 2, 2, 2, 3, 2, 4, 3, 1, 3, 2, 3, 3, 3, 4, 4, 1, 4, 2, 4, 3, 4, 4]\n",
      "List after removing duplicate elements:  [1, 2, 3, 4]\n"
     ]
    }
   ],
   "source": [
    "#Que3.\n",
    "#Sets are the datatypes that did not allow duplicate items\n",
    "\n",
    "list = [1, 1, 1, 2, 1, 3, 1, 4, 2, 1, 2, 2, 2, 3, 2, 4, 3, 1, 3, 2, 3, 3, 3, 4, 4, 1, 4, 2, 4, 3, 4, 4]\n",
    "print(\"Original List: \", list)\n",
    "res = [*set(list)]\n",
    "print(\"List after removing duplicate elements: \", res)\n"
   ]
  },
  {
   "cell_type": "code",
   "execution_count": 2,
   "id": "3475b2b7",
   "metadata": {},
   "outputs": [
    {
     "name": "stdout",
     "output_type": "stream",
     "text": [
      "A U B: {2, 4, 5, 6, 7, 8}\n"
     ]
    }
   ],
   "source": [
    "'''\n",
    "Que4.\n",
    "update() adds all missing elements to the set on which it is called whereas set. union() creates a new set.\n",
    "Eg.'''\n",
    "A = {2, 4, 5, 6}\n",
    "B = {4, 6, 7, 8}\n",
    "\n",
    "print(\"A U B:\", A.union(B))"
   ]
  },
  {
   "cell_type": "code",
   "execution_count": 3,
   "id": "1e2ecdb3",
   "metadata": {},
   "outputs": [
    {
     "name": "stdout",
     "output_type": "stream",
     "text": [
      "{1, 2, 3, 5, 6, 7}\n"
     ]
    }
   ],
   "source": [
    "\n",
    "#Eg of update():\n",
    "set1 = {1,2,3}\n",
    "set2 = {5,6,7}\n",
    "# Update method\n",
    "set1.update(set2)\n",
    "# Print the updated set\n",
    "print(set1)\n"
   ]
  },
  {
   "cell_type": "code",
   "execution_count": 7,
   "id": "d28aab0e",
   "metadata": {},
   "outputs": [
    {
     "name": "stdout",
     "output_type": "stream",
     "text": [
      "{'name': 'Shubham', 'course': 'Data science masters', 'mentor': 'Krish naik'}\n"
     ]
    }
   ],
   "source": [
    "#Que5.\n",
    "#Dictionary is a data type in python, that stores values in key value pairs\n",
    "Dict = {'name':'Shubham', 'course':'Data science masters', 'mentor':'Krish naik'}\n",
    "\n",
    "#It is ordered.\n",
    "print(Dict)"
   ]
  },
  {
   "cell_type": "code",
   "execution_count": 9,
   "id": "f0c69c03",
   "metadata": {},
   "outputs": [
    {
     "name": "stdout",
     "output_type": "stream",
     "text": [
      "{'child1': {'name': 'Shubham', 'year': 2001}, 'child2': {'name': 'Sahil', 'year': 2005}, 'child3': {'name': 'Leena', 'year': 2016}}\n"
     ]
    }
   ],
   "source": [
    "#Que6.\n",
    "#Yes we can create a nested dictionary.\n",
    "\n",
    "\n",
    "#Example of nested dictionary:\n",
    "my_family = {\n",
    "  \"child1\" : {\n",
    "    \"name\" : \"Shubham\",\n",
    "    \"year\" : 2001\n",
    "  },\n",
    "  \"child2\" : {\n",
    "    \"name\" : \"Sahil\",\n",
    "    \"year\" : 2005\n",
    "  },\n",
    "  \"child3\" : {\n",
    "    \"name\" : \"Leena\",\n",
    "    \"year\" : 2016\n",
    "  }\n",
    "}\n",
    "print(my_family)"
   ]
  },
  {
   "cell_type": "code",
   "execution_count": 10,
   "id": "bc6c7b6b",
   "metadata": {},
   "outputs": [
    {
     "name": "stdout",
     "output_type": "stream",
     "text": [
      "{'language': 'Python', 'course': 'Data Science Masters', 'topics': ['Python', 'Machine Learning', 'Deep Learning']}\n"
     ]
    }
   ],
   "source": [
    "#Que7.\n",
    "dict1 = {'language' : 'Python', 'course': 'Data Science Masters'}\n",
    "dict1.setdefault('topics', []).append('Python')\n",
    "dict1.setdefault('topics', []).append('Machine Learning')\n",
    "dict1.setdefault('topics', []).append('Deep Learning')\n",
    "print(dict1)\n"
   ]
  },
  {
   "cell_type": "code",
   "execution_count": 15,
   "id": "b4f5051b",
   "metadata": {},
   "outputs": [
    {
     "data": {
      "text/plain": [
       "'Cricket'"
      ]
     },
     "execution_count": 15,
     "metadata": {},
     "output_type": "execute_result"
    }
   ],
   "source": [
    "#Que8.\n",
    "\n",
    "#The main view objects are key, value, items.\n",
    "\n",
    "dict = {'Sport': 'Cricket' , 'Teams': ['India', 'Australia', 'England', 'South Africa', 'Sri Lanka', 'New Zealand']}\n",
    "\n",
    "\n",
    "dict['Sport']"
   ]
  },
  {
   "cell_type": "code",
   "execution_count": 16,
   "id": "d7dac19b",
   "metadata": {},
   "outputs": [
    {
     "data": {
      "text/plain": [
       "['India', 'Australia', 'England', 'South Africa', 'Sri Lanka', 'New Zealand']"
      ]
     },
     "execution_count": 16,
     "metadata": {},
     "output_type": "execute_result"
    }
   ],
   "source": [
    "dict['Teams']"
   ]
  },
  {
   "cell_type": "code",
   "execution_count": 17,
   "id": "c455c0a0",
   "metadata": {},
   "outputs": [
    {
     "data": {
      "text/plain": [
       "'Australia'"
      ]
     },
     "execution_count": 17,
     "metadata": {},
     "output_type": "execute_result"
    }
   ],
   "source": [
    "dict['Teams'][1]"
   ]
  },
  {
   "cell_type": "code",
   "execution_count": null,
   "id": "52652d20",
   "metadata": {},
   "outputs": [],
   "source": []
  }
 ],
 "metadata": {
  "kernelspec": {
   "display_name": "Python 3 (ipykernel)",
   "language": "python",
   "name": "python3"
  },
  "language_info": {
   "codemirror_mode": {
    "name": "ipython",
    "version": 3
   },
   "file_extension": ".py",
   "mimetype": "text/x-python",
   "name": "python",
   "nbconvert_exporter": "python",
   "pygments_lexer": "ipython3",
   "version": "3.9.12"
  }
 },
 "nbformat": 4,
 "nbformat_minor": 5
}
