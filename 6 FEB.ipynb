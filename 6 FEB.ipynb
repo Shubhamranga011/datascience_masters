{
 "cells": [
  {
   "cell_type": "code",
   "execution_count": 5,
   "id": "ee864d39",
   "metadata": {},
   "outputs": [
    {
     "name": "stdout",
     "output_type": "stream",
     "text": [
      "The encrypted message is:  r$dzmg$gl$yvxlnv$z$wzgz$hxrvmgrhg.\n"
     ]
    }
   ],
   "source": [
    "#Que2.\n",
    "def encrypt_message(sentence):\n",
    "    encryption_map = {'a': 'z', 'b': 'y', 'c': 'x', 'd': 'w', 'e': 'v', 'f': 'u', 'g': 't', 'h': 's', 'i': 'r', 'j': 'q', 'k': 'p', 'l': 'o', 'm': 'n', 'n': 'm', 'o': 'l', 'p': 'k', 'q': 'j', 'r': 'i', 's': 'h', 't': 'g', 'u': 'f', 'v': 'e', 'w': 'd', 'x': 'c', 'y': 'b', 'z': 'a'}\n",
    "    encrypted_sentence = ''\n",
    "    for i in sentence:\n",
    "        if i == ' ':\n",
    "            encrypted_sentence += '$'\n",
    "        elif i.lower() in encryption_map:\n",
    "            encrypted_sentence += encryption_map[i.lower()]\n",
    "        else:\n",
    "            encrypted_sentence += i\n",
    "    return encrypted_sentence\n",
    "\n",
    "sentence = \"I want to become a Data Scientist.\"\n",
    "encrypted_sentence = encrypt_message(sentence)\n",
    "print(\"The encrypted message is: \", encrypted_sentence)\n"
   ]
  },
  {
   "cell_type": "code",
   "execution_count": null,
   "id": "891afb1b",
   "metadata": {},
   "outputs": [],
   "source": [
    "#Que1.\n",
    "#Que1.\n",
    "def flatten_and_multiply(input_list):\n",
    "    flat_list = []\n",
    "    for item in input_list:\n",
    "        if isinstance(item, (int, float)):\n",
    "            flat_list.append(item)\n",
    "        elif isinstance(item, (list, tuple)):\n",
    "            flat_list.extend(flatten_and_multiply(item))\n",
    "    product = 1\n",
    "    for num in flat_list:\n",
    "        product *= num\n",
    "    return product\n",
    "\n",
    "list1 = [1,2,3,4, [44,55,66, True], False, (34,56,78,89,34), {1,2,3,3,2,1}, {1:34, \"key2\": [55, 67, 78, 89], 4: (45,\n",
    "        22, 61, 34)}, [56, 'data science'], 'Machine Learning']\n",
    "result = flatten_and_multiply(list1)\n",
    "print(result)\n",
    "\n"
   ]
  },
  {
   "cell_type": "code",
   "execution_count": null,
   "id": "03a9938a",
   "metadata": {},
   "outputs": [],
   "source": []
  }
 ],
 "metadata": {
  "kernelspec": {
   "display_name": "Python 3 (ipykernel)",
   "language": "python",
   "name": "python3"
  },
  "language_info": {
   "codemirror_mode": {
    "name": "ipython",
    "version": 3
   },
   "file_extension": ".py",
   "mimetype": "text/x-python",
   "name": "python",
   "nbconvert_exporter": "python",
   "pygments_lexer": "ipython3",
   "version": "3.9.12"
  }
 },
 "nbformat": 4,
 "nbformat_minor": 5
}
