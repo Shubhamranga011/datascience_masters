{
 "cells": [
  {
   "cell_type": "code",
   "execution_count": null,
   "id": "4db5548d",
   "metadata": {},
   "outputs": [],
   "source": [
    "#Que1.\n",
    "\n",
    "A database is an organized collection of structured information, or data, typically stored electronically in a \n",
    "computer system. \n",
    "A database is usually controlled by a database management system (DBMS).\n",
    "\n",
    "SQL:\n",
    "    These are relational databases, uses predefined structures.\n",
    "    \n",
    "NOSQl:\n",
    "    Non relational database, these may be key-valued, docoument bases or graph based."
   ]
  },
  {
   "cell_type": "code",
   "execution_count": null,
   "id": "d3a1c460",
   "metadata": {},
   "outputs": [],
   "source": [
    "#Que2.\n",
    "DDL:\n",
    "    Data definition language, which is a set of SQL commands used to define and manipulate the structure of \n",
    "    database objects such as tables, views, indexes.\n",
    "    \n",
    "Examples:\n",
    "    \n",
    "#Create table\n",
    "CREATE TABLE students (\n",
    "   std_id INT,\n",
    "   std_name VARCHAR(50),\n",
    "   std_dept VARCHAR(50),\n",
    "   std_fees DECIMAL(6,1)\n",
    ");\n",
    "\n",
    "\n",
    "#to drop table:\n",
    "DROP TABLE students;\n",
    "\n",
    "#truncate:\n",
    "TRUNCATE TABLE students;"
   ]
  },
  {
   "cell_type": "code",
   "execution_count": null,
   "id": "f4f3b67a",
   "metadata": {},
   "outputs": [],
   "source": [
    "#Que3.\n",
    "DML stands for Data Manipulation Language, which is a set of SQL commands used to manipulate the data stored \n",
    "in a database.\n",
    "\n",
    "INSERT INTO students (std_id, std_name, std_dept, std_fees) \n",
    "VALUES (1, 'John Doe', 'IT', 5000.0);\n",
    "\n",
    "UPDATE students SET std_fees = 5500.0 WHERE emp_id = 1;\n",
    "\n",
    "\n",
    "DELETE FROM students WHERE emp_id = 1;\n"
   ]
  },
  {
   "cell_type": "code",
   "execution_count": null,
   "id": "53eb1f7c",
   "metadata": {},
   "outputs": [],
   "source": [
    "#Que4.\n",
    "DQL:\n",
    "    data query language(it is a set of sql commands to retrieve data from database).\n",
    "    \n",
    "SELECT * FROM students;\n",
    "\n",
    "this command will get all the details about students.\n",
    "\n"
   ]
  },
  {
   "cell_type": "code",
   "execution_count": null,
   "id": "39c7fb4d",
   "metadata": {},
   "outputs": [],
   "source": [
    "#Que5.\n",
    "Primary Key:\n",
    "    A primary key is a unique identifier for each row in a table. It is used to ensure that each row is uniquely \n",
    "    identifiable and can be easily accessed when needed. The primary key can be made up of one or more columns in \n",
    "    the table, but the values in the key must be unique. \n",
    "    \n",
    "Foreign Key:\n",
    "    A foreign key is a field in one table that refers to the primary key in another table. It is used to establish\n",
    "    a relationship between the two tables, allowing data to be connected across tables. The foreign key is used to \n",
    "    link the data in one table to the data in another table."
   ]
  },
  {
   "cell_type": "code",
   "execution_count": null,
   "id": "f6278786",
   "metadata": {},
   "outputs": [],
   "source": [
    "#Que6.\n",
    "Python code to connect mysql using python:\n",
    "    import mysql.connector\n",
    "\n",
    "mydb = mysql.connector.connect(\n",
    "  host=\"localhost\",\n",
    "  user=\"yourusername\",\n",
    "  password=\"yourpassword\",\n",
    "  database=\"mydatabase\"\n",
    ")\n",
    "\n",
    "mycursor = mydb.cursor()\n",
    "\n",
    "mycursor.execute(\"SELECT * FROM customers\")\n",
    "\n",
    "for x in mycursor:\n",
    "  print(x)\n",
    "\n",
    "\n",
    "\n",
    "cursor():The cursor object is used to execute SQL statements on the database.\n",
    "execute():This method is used to execute SQL statements on the database. It takes the SQL statement as a parameter \n",
    "            and returns the result of the execution.\n"
   ]
  },
  {
   "cell_type": "code",
   "execution_count": null,
   "id": "af538551",
   "metadata": {},
   "outputs": [],
   "source": [
    "#Que7.\n",
    "From \n",
    "Join \n",
    "Where\n",
    "Group by\n",
    "having\n",
    "select \n",
    "distinct \n",
    "order by \n",
    "limit"
   ]
  }
 ],
 "metadata": {
  "kernelspec": {
   "display_name": "Python 3 (ipykernel)",
   "language": "python",
   "name": "python3"
  },
  "language_info": {
   "codemirror_mode": {
    "name": "ipython",
    "version": 3
   },
   "file_extension": ".py",
   "mimetype": "text/x-python",
   "name": "python",
   "nbconvert_exporter": "python",
   "pygments_lexer": "ipython3",
   "version": "3.9.12"
  }
 },
 "nbformat": 4,
 "nbformat_minor": 5
}
