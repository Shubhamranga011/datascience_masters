{
 "cells": [
  {
   "cell_type": "code",
   "execution_count": 1,
   "id": "bacd88c5",
   "metadata": {},
   "outputs": [
    {
     "name": "stdout",
     "output_type": "stream",
     "text": [
      "[1, 3, 5, 7, 9, 11, 13, 15, 17, 19, 21, 23, 25]\n"
     ]
    }
   ],
   "source": [
    "\n",
    "#Que.1\n",
    "def odd_numbers(n):\n",
    "    odd_list = []\n",
    "    for i in range(1, n+1):\n",
    "        if i % 2 != 0:\n",
    "            odd_list.append(i)\n",
    "    return odd_list\n",
    "\n",
    "print(odd_numbers(25))\n"
   ]
  },
  {
   "cell_type": "code",
   "execution_count": 2,
   "id": "9a5039a4",
   "metadata": {},
   "outputs": [
    {
     "name": "stdout",
     "output_type": "stream",
     "text": [
      "1\n",
      "2\n",
      "3\n"
     ]
    }
   ],
   "source": [
    "#Que2.\n",
    "#*args :  this allows pass a variable to the argument of a function to accept an arbitrary number of arguments.\n",
    "\n",
    "def test_function(*args):\n",
    "    for arg in args:\n",
    "        print(arg)\n",
    "\n",
    "test_function(1, 2, 3)\n",
    "\n"
   ]
  },
  {
   "cell_type": "code",
   "execution_count": 3,
   "id": "22380c2f",
   "metadata": {},
   "outputs": [
    {
     "name": "stdout",
     "output_type": "stream",
     "text": [
      "first_name John\n",
      "last_name Doe\n"
     ]
    }
   ],
   "source": [
    "#Kwargs\n",
    "#**kwargs : this allows to pass a keyworded argument and printing one by one. It allows to pass any number of keyworded arguments.\n",
    "\n",
    "def test_function(**kwargs):\n",
    "    for key, value in kwargs.items():\n",
    "        print(key, value)\n",
    "\n",
    "test_function(first_name=\"John\", last_name=\"Doe\")\n",
    "\n"
   ]
  },
  {
   "cell_type": "code",
   "execution_count": 4,
   "id": "46039e9a",
   "metadata": {},
   "outputs": [
    {
     "name": "stdout",
     "output_type": "stream",
     "text": [
      "2\n",
      "4\n",
      "6\n",
      "8\n",
      "10\n"
     ]
    }
   ],
   "source": [
    "#Que3.\n",
    "'''Iterators are used to iterate over a sequence of objects like lists, dictionaries.\n",
    "\n",
    "__iter__() is used to initialize the iterator object\n",
    "\n",
    "__next__() is used for iteration.\n",
    "'''\n",
    "list = [2, 4, 6, 8, 10, 12, 14, 16, 18, 20]\n",
    "list_iterator = iter(list)\n",
    "\n",
    "for i in range(5):\n",
    "    print(next(list_iterator))\n",
    "\n",
    "\n"
   ]
  },
  {
   "cell_type": "code",
   "execution_count": 5,
   "id": "59b82d1c",
   "metadata": {},
   "outputs": [
    {
     "name": "stdout",
     "output_type": "stream",
     "text": [
      "2\n",
      "4\n",
      "6\n",
      "8\n",
      "10\n"
     ]
    }
   ],
   "source": [
    "#Que4.\n",
    "#Generator: it produces a sequence instead of a single value.\n",
    "# Yield: it is similar to return statement, used to return the value called by generator\n",
    "\n",
    "\n",
    "def list_generator(list):\n",
    "    for item in list:\n",
    "        yield item\n",
    "\n",
    "list = [2, 4, 6, 8, 10, 12, 14, 16, 18, 20]\n",
    "list_iterator = list_generator(list)\n",
    "\n",
    "for i in range(5):\n",
    "    print(next(list_iterator))\n"
   ]
  },
  {
   "cell_type": "code",
   "execution_count": 6,
   "id": "1b19eed0",
   "metadata": {},
   "outputs": [
    {
     "name": "stdout",
     "output_type": "stream",
     "text": [
      "2\n",
      "3\n",
      "5\n",
      "7\n",
      "11\n",
      "13\n",
      "17\n",
      "19\n",
      "23\n",
      "29\n",
      "31\n",
      "37\n",
      "41\n",
      "43\n",
      "47\n",
      "53\n",
      "59\n",
      "61\n",
      "67\n",
      "71\n"
     ]
    }
   ],
   "source": [
    "#Que5.\n",
    "def prime_num_generator():\n",
    "    primes = []\n",
    "    number = 2\n",
    "    while number < 1000:\n",
    "        is_prime = True\n",
    "        for prime in primes:\n",
    "            if prime > int(number ** 0.5) + 1:\n",
    "                break\n",
    "            if number % prime == 0:\n",
    "                is_prime = False\n",
    "                break\n",
    "        if is_prime:\n",
    "            primes.append(number)\n",
    "            yield number\n",
    "        number += 1\n",
    "\n",
    "prime_num_iterator = prime_num_generator()\n",
    "\n",
    "for i in range(20):\n",
    "    print(next(prime_num_iterator))\n"
   ]
  },
  {
   "cell_type": "code",
   "execution_count": null,
   "id": "daedb9ca",
   "metadata": {},
   "outputs": [],
   "source": []
  }
 ],
 "metadata": {
  "kernelspec": {
   "display_name": "Python 3 (ipykernel)",
   "language": "python",
   "name": "python3"
  },
  "language_info": {
   "codemirror_mode": {
    "name": "ipython",
    "version": 3
   },
   "file_extension": ".py",
   "mimetype": "text/x-python",
   "name": "python",
   "nbconvert_exporter": "python",
   "pygments_lexer": "ipython3",
   "version": "3.9.12"
  }
 },
 "nbformat": 4,
 "nbformat_minor": 5
}
